{
 "cells": [
  {
   "cell_type": "markdown",
   "metadata": {},
   "source": [
    "# STEP 1: Import libraries"
   ]
  },
  {
   "cell_type": "code",
   "execution_count": 31,
   "metadata": {},
   "outputs": [],
   "source": [
    "import seaborn as sns\n",
    "import matplotlib.pyplot as plt\n",
    "import pickle\n",
    "import pandas as pd \n",
    "import numpy as np \n",
    "import matplotlib.pyplot as plt \n",
    "import random\n",
    "import warnings\n",
    "warnings.filterwarnings(\"ignore\")\n",
    "%matplotlib inline"
   ]
  },
  {
   "cell_type": "markdown",
   "metadata": {},
   "source": [
    "# STEP 2: Load the data"
   ]
  },
  {
   "cell_type": "code",
   "execution_count": 6,
   "metadata": {},
   "outputs": [],
   "source": [
    "with open(\"./traffic-signs-data/train.p\", mode='rb') as training_data:\n",
    "    train = pickle.load(training_data)\n",
    "with open(\"./traffic-signs-data/valid.p\", mode='rb') as validation_data:\n",
    "    valid = pickle.load(validation_data)\n",
    "with open(\"./traffic-signs-data/test.p\", mode='rb') as testing_data:\n",
    "    test = pickle.load(testing_data)"
   ]
  },
  {
   "cell_type": "code",
   "execution_count": 7,
   "metadata": {},
   "outputs": [],
   "source": [
    "X_train, y_train = train['features'], train['labels']\n",
    "X_validation, y_validation = valid['features'], valid['labels']\n",
    "X_test, y_test = test['features'], test['labels']\n"
   ]
  },
  {
   "cell_type": "code",
   "execution_count": 49,
   "metadata": {},
   "outputs": [
    {
     "data": {
      "text/plain": [
       "array([[[[ 15,  13,  16],\n",
       "         [ 15,  12,  15],\n",
       "         [ 14,  12,  14],\n",
       "         ...,\n",
       "         [ 15,  12,  14],\n",
       "         [ 14,  12,  13],\n",
       "         [ 15,  13,  14]],\n",
       "\n",
       "        [[ 16,  15,  18],\n",
       "         [ 14,  13,  16],\n",
       "         [ 13,  12,  14],\n",
       "         ...,\n",
       "         [ 14,  12,  14],\n",
       "         [ 15,  13,  14],\n",
       "         [ 15,  13,  13]],\n",
       "\n",
       "        [[ 15,  14,  17],\n",
       "         [ 15,  13,  15],\n",
       "         [ 14,  12,  14],\n",
       "         ...,\n",
       "         [ 13,  12,  13],\n",
       "         [ 14,  12,  15],\n",
       "         [ 14,  12,  14]],\n",
       "\n",
       "        ...,\n",
       "\n",
       "        [[ 17,  16,  19],\n",
       "         [ 14,  13,  17],\n",
       "         [ 14,  13,  17],\n",
       "         ...,\n",
       "         [ 13,  12,  15],\n",
       "         [ 15,  13,  17],\n",
       "         [ 15,  13,  16]],\n",
       "\n",
       "        [[ 18,  16,  20],\n",
       "         [ 15,  14,  18],\n",
       "         [ 14,  13,  17],\n",
       "         ...,\n",
       "         [ 13,  13,  17],\n",
       "         [ 14,  14,  18],\n",
       "         [ 14,  14,  17]],\n",
       "\n",
       "        [[ 20,  18,  22],\n",
       "         [ 17,  15,  19],\n",
       "         [ 14,  13,  17],\n",
       "         ...,\n",
       "         [ 15,  14,  17],\n",
       "         [ 16,  15,  19],\n",
       "         [ 16,  15,  18]]],\n",
       "\n",
       "\n",
       "       [[[ 41,  48,  58],\n",
       "         [ 35,  40,  51],\n",
       "         [ 29,  32,  40],\n",
       "         ...,\n",
       "         [ 17,  16,  19],\n",
       "         [ 17,  16,  19],\n",
       "         [ 16,  15,  18]],\n",
       "\n",
       "        [[ 38,  45,  55],\n",
       "         [ 32,  37,  48],\n",
       "         [ 27,  31,  39],\n",
       "         ...,\n",
       "         [ 17,  16,  19],\n",
       "         [ 16,  15,  19],\n",
       "         [ 16,  15,  18]],\n",
       "\n",
       "        [[ 36,  43,  50],\n",
       "         [ 29,  34,  43],\n",
       "         [ 26,  29,  37],\n",
       "         ...,\n",
       "         [ 16,  15,  19],\n",
       "         [ 16,  15,  20],\n",
       "         [ 16,  15,  19]],\n",
       "\n",
       "        ...,\n",
       "\n",
       "        [[ 14,  18,  27],\n",
       "         [ 14,  17,  23],\n",
       "         [ 15,  17,  21],\n",
       "         ...,\n",
       "         [ 10,  10,  13],\n",
       "         [ 10,  10,  13],\n",
       "         [  9,  10,  13]],\n",
       "\n",
       "        [[ 16,  19,  29],\n",
       "         [ 15,  17,  24],\n",
       "         [ 16,  18,  23],\n",
       "         ...,\n",
       "         [ 10,  10,  13],\n",
       "         [ 10,  10,  13],\n",
       "         [ 10,  10,  13]],\n",
       "\n",
       "        [[ 15,  18,  26],\n",
       "         [ 15,  17,  23],\n",
       "         [ 15,  17,  22],\n",
       "         ...,\n",
       "         [ 10,  10,  13],\n",
       "         [ 10,  10,  14],\n",
       "         [  9,   9,  13]]],\n",
       "\n",
       "\n",
       "       [[[ 15,  16,  20],\n",
       "         [ 15,  16,  21],\n",
       "         [ 16,  19,  24],\n",
       "         ...,\n",
       "         [ 14,  14,  19],\n",
       "         [ 14,  14,  18],\n",
       "         [ 13,  13,  18]],\n",
       "\n",
       "        [[ 14,  15,  20],\n",
       "         [ 15,  14,  19],\n",
       "         [ 17,  17,  23],\n",
       "         ...,\n",
       "         [ 13,  13,  18],\n",
       "         [ 13,  13,  17],\n",
       "         [ 14,  13,  18]],\n",
       "\n",
       "        [[ 12,  13,  17],\n",
       "         [ 14,  14,  18],\n",
       "         [ 15,  15,  21],\n",
       "         ...,\n",
       "         [ 13,  13,  18],\n",
       "         [ 13,  13,  17],\n",
       "         [ 13,  13,  17]],\n",
       "\n",
       "        ...,\n",
       "\n",
       "        [[ 13,  14,  19],\n",
       "         [ 12,  14,  20],\n",
       "         [ 13,  14,  21],\n",
       "         ...,\n",
       "         [ 24,  22,  27],\n",
       "         [ 25,  25,  27],\n",
       "         [ 27,  26,  30]],\n",
       "\n",
       "        [[ 17,  19,  24],\n",
       "         [ 16,  18,  24],\n",
       "         [ 16,  18,  25],\n",
       "         ...,\n",
       "         [ 14,  14,  16],\n",
       "         [ 14,  14,  15],\n",
       "         [ 17,  16,  18]],\n",
       "\n",
       "        [[ 21,  23,  31],\n",
       "         [ 19,  22,  30],\n",
       "         [ 19,  22,  29],\n",
       "         ...,\n",
       "         [ 13,  13,  17],\n",
       "         [ 14,  14,  19],\n",
       "         [ 14,  13,  18]]],\n",
       "\n",
       "\n",
       "       ...,\n",
       "\n",
       "\n",
       "       [[[ 15,  14,  16],\n",
       "         [ 15,  15,  17],\n",
       "         [ 15,  15,  17],\n",
       "         ...,\n",
       "         [ 14,  14,  16],\n",
       "         [ 14,  14,  17],\n",
       "         [ 16,  14,  17]],\n",
       "\n",
       "        [[ 16,  14,  17],\n",
       "         [ 15,  15,  17],\n",
       "         [ 15,  15,  17],\n",
       "         ...,\n",
       "         [ 15,  15,  17],\n",
       "         [ 15,  15,  17],\n",
       "         [ 17,  14,  16]],\n",
       "\n",
       "        [[ 16,  14,  18],\n",
       "         [ 16,  15,  19],\n",
       "         [ 15,  14,  18],\n",
       "         ...,\n",
       "         [ 15,  15,  17],\n",
       "         [ 16,  15,  17],\n",
       "         [ 16,  14,  16]],\n",
       "\n",
       "        ...,\n",
       "\n",
       "        [[ 25,  29,  36],\n",
       "         [ 24,  28,  34],\n",
       "         [ 23,  27,  32],\n",
       "         ...,\n",
       "         [ 24,  26,  28],\n",
       "         [ 22,  23,  24],\n",
       "         [ 18,  15,  17]],\n",
       "\n",
       "        [[ 32,  35,  46],\n",
       "         [ 30,  35,  45],\n",
       "         [ 31,  35,  45],\n",
       "         ...,\n",
       "         [ 23,  27,  29],\n",
       "         [ 20,  24,  26],\n",
       "         [ 19,  17,  20]],\n",
       "\n",
       "        [[ 38,  41,  53],\n",
       "         [ 34,  41,  53],\n",
       "         [ 36,  42,  54],\n",
       "         ...,\n",
       "         [ 23,  28,  30],\n",
       "         [ 21,  24,  26],\n",
       "         [ 20,  17,  20]]],\n",
       "\n",
       "\n",
       "       [[[ 34,  36,  43],\n",
       "         [ 37,  39,  46],\n",
       "         [ 39,  41,  43],\n",
       "         ...,\n",
       "         [219, 241, 253],\n",
       "         [179, 204, 246],\n",
       "         [165, 195, 237]],\n",
       "\n",
       "        [[ 33,  35,  44],\n",
       "         [ 36,  37,  46],\n",
       "         [ 39,  40,  44],\n",
       "         ...,\n",
       "         [221, 240, 253],\n",
       "         [180, 204, 245],\n",
       "         [165, 194, 235]],\n",
       "\n",
       "        [[ 32,  34,  42],\n",
       "         [ 35,  36,  44],\n",
       "         [ 38,  38,  41],\n",
       "         ...,\n",
       "         [223, 239, 254],\n",
       "         [182, 204, 248],\n",
       "         [166, 194, 238]],\n",
       "\n",
       "        ...,\n",
       "\n",
       "        [[ 13,  14,  18],\n",
       "         [ 13,  16,  18],\n",
       "         [ 17,  22,  24],\n",
       "         ...,\n",
       "         [194, 183, 190],\n",
       "         [213, 230, 240],\n",
       "         [160, 203, 225]],\n",
       "\n",
       "        [[ 12,  13,  14],\n",
       "         [ 16,  17,  17],\n",
       "         [ 22,  23,  25],\n",
       "         ...,\n",
       "         [188, 177, 182],\n",
       "         [209, 224, 232],\n",
       "         [147, 188, 209]],\n",
       "\n",
       "        [[ 19,  20,  23],\n",
       "         [ 21,  21,  22],\n",
       "         [ 23,  21,  23],\n",
       "         ...,\n",
       "         [184, 172, 175],\n",
       "         [208, 222, 225],\n",
       "         [161, 200, 218]]],\n",
       "\n",
       "\n",
       "       [[[252, 237, 235],\n",
       "         [234, 174, 131],\n",
       "         [225, 110,  65],\n",
       "         ...,\n",
       "         [232, 112,  92],\n",
       "         [228, 107,  83],\n",
       "         [229, 109,  83]],\n",
       "\n",
       "        [[205, 206, 220],\n",
       "         [238, 236, 218],\n",
       "         [240, 227, 200],\n",
       "         ...,\n",
       "         [244, 228, 218],\n",
       "         [243, 226, 214],\n",
       "         [244, 227, 214]],\n",
       "\n",
       "        [[148, 144, 142],\n",
       "         [148, 184, 169],\n",
       "         [184, 200, 182],\n",
       "         ...,\n",
       "         [185, 181, 169],\n",
       "         [216, 209, 186],\n",
       "         [214, 200, 168]],\n",
       "\n",
       "        ...,\n",
       "\n",
       "        [[ 30,  30,  25],\n",
       "         [ 32,  32,  31],\n",
       "         [ 50,  46,  37],\n",
       "         ...,\n",
       "         [246, 226, 167],\n",
       "         [197, 164, 123],\n",
       "         [129, 122,  77]],\n",
       "\n",
       "        [[ 37,  40,  30],\n",
       "         [ 59,  61,  51],\n",
       "         [ 92,  84,  70],\n",
       "         ...,\n",
       "         [225, 205, 152],\n",
       "         [186, 164, 102],\n",
       "         [104, 108,  53]],\n",
       "\n",
       "        [[ 31,  39,  27],\n",
       "         [ 71,  84,  66],\n",
       "         [102, 104,  90],\n",
       "         ...,\n",
       "         [164, 177, 113],\n",
       "         [190, 191,  94],\n",
       "         [157, 160,  90]]]], dtype=uint8)"
      ]
     },
     "execution_count": 49,
     "metadata": {},
     "output_type": "execute_result"
    }
   ],
   "source": [
    "X_train"
   ]
  },
  {
   "cell_type": "code",
   "execution_count": 8,
   "metadata": {},
   "outputs": [
    {
     "data": {
      "text/plain": [
       "(34799, 32, 32, 3)"
      ]
     },
     "execution_count": 8,
     "metadata": {},
     "output_type": "execute_result"
    }
   ],
   "source": [
    "X_train.shape"
   ]
  },
  {
   "cell_type": "code",
   "execution_count": 50,
   "metadata": {},
   "outputs": [
    {
     "data": {
      "text/plain": [
       "array([25, 10, 18, ...,  2, 34,  2], dtype=uint8)"
      ]
     },
     "execution_count": 50,
     "metadata": {},
     "output_type": "execute_result"
    }
   ],
   "source": [
    "y_train"
   ]
  },
  {
   "cell_type": "code",
   "execution_count": 9,
   "metadata": {},
   "outputs": [
    {
     "data": {
      "text/plain": [
       "(34799,)"
      ]
     },
     "execution_count": 9,
     "metadata": {},
     "output_type": "execute_result"
    }
   ],
   "source": [
    "y_train.shape"
   ]
  },
  {
   "cell_type": "code",
   "execution_count": 51,
   "metadata": {},
   "outputs": [
    {
     "data": {
      "text/plain": [
       "array([[[[116, 139, 174],\n",
       "         [116, 137, 171],\n",
       "         [118, 138, 172],\n",
       "         ...,\n",
       "         [ 98, 114, 143],\n",
       "         [ 97, 121, 147],\n",
       "         [ 85, 105, 130]],\n",
       "\n",
       "        [[115, 142, 176],\n",
       "         [115, 140, 174],\n",
       "         [117, 141, 175],\n",
       "         ...,\n",
       "         [119, 143, 176],\n",
       "         [120, 141, 173],\n",
       "         [120, 139, 171]],\n",
       "\n",
       "        [[117, 141, 174],\n",
       "         [117, 142, 175],\n",
       "         [114, 140, 172],\n",
       "         ...,\n",
       "         [120, 144, 179],\n",
       "         [122, 144, 179],\n",
       "         [120, 143, 177]],\n",
       "\n",
       "        ...,\n",
       "\n",
       "        [[117, 137, 167],\n",
       "         [115, 134, 164],\n",
       "         [117, 135, 164],\n",
       "         ...,\n",
       "         [115, 137, 169],\n",
       "         [116, 136, 168],\n",
       "         [118, 139, 172]],\n",
       "\n",
       "        [[116, 136, 166],\n",
       "         [114, 134, 168],\n",
       "         [113, 131, 166],\n",
       "         ...,\n",
       "         [113, 135, 167],\n",
       "         [117, 136, 165],\n",
       "         [115, 139, 167]],\n",
       "\n",
       "        [[112, 135, 167],\n",
       "         [110, 134, 165],\n",
       "         [119, 135, 165],\n",
       "         ...,\n",
       "         [115, 138, 167],\n",
       "         [117, 138, 167],\n",
       "         [114, 140, 170]]],\n",
       "\n",
       "\n",
       "       [[[ 59,  70,  61],\n",
       "         [ 87,  80,  63],\n",
       "         [ 92,  81,  63],\n",
       "         ...,\n",
       "         [ 77,  64,  67],\n",
       "         [ 71,  65,  67],\n",
       "         [ 74,  69,  68]],\n",
       "\n",
       "        [[ 59,  68,  58],\n",
       "         [ 94,  83,  65],\n",
       "         [ 95,  80,  62],\n",
       "         ...,\n",
       "         [ 77,  64,  66],\n",
       "         [ 92,  69,  70],\n",
       "         [ 85,  68,  68]],\n",
       "\n",
       "        [[ 56,  68,  58],\n",
       "         [ 90,  84,  67],\n",
       "         [ 95,  82,  64],\n",
       "         ...,\n",
       "         [ 72,  65,  66],\n",
       "         [ 80,  67,  69],\n",
       "         [ 79,  69,  70]],\n",
       "\n",
       "        ...,\n",
       "\n",
       "        [[ 48,  47,  43],\n",
       "         [ 79,  68,  57],\n",
       "         [ 80,  66,  56],\n",
       "         ...,\n",
       "         [ 68,  63,  63],\n",
       "         [ 78,  65,  65],\n",
       "         [ 76,  66,  68]],\n",
       "\n",
       "        [[ 49,  46,  45],\n",
       "         [ 78,  66,  61],\n",
       "         [ 78,  65,  58],\n",
       "         ...,\n",
       "         [ 60,  60,  61],\n",
       "         [ 68,  65,  65],\n",
       "         [ 73,  67,  67]],\n",
       "\n",
       "        [[ 51,  45,  45],\n",
       "         [ 78,  66,  61],\n",
       "         [ 79,  66,  58],\n",
       "         ...,\n",
       "         [ 62,  59,  62],\n",
       "         [ 73,  67,  70],\n",
       "         [ 75,  70,  70]]],\n",
       "\n",
       "\n",
       "       [[[ 52,  40,  38],\n",
       "         [ 51,  39,  37],\n",
       "         [ 50,  38,  37],\n",
       "         ...,\n",
       "         [ 53,  44,  46],\n",
       "         [ 54,  45,  48],\n",
       "         [ 55,  45,  48]],\n",
       "\n",
       "        [[ 59,  45,  42],\n",
       "         [ 59,  44,  41],\n",
       "         [ 56,  44,  40],\n",
       "         ...,\n",
       "         [ 52,  41,  42],\n",
       "         [ 54,  44,  45],\n",
       "         [ 55,  46,  45]],\n",
       "\n",
       "        [[ 67,  49,  44],\n",
       "         [ 65,  50,  45],\n",
       "         [ 65,  49,  45],\n",
       "         ...,\n",
       "         [ 57,  42,  39],\n",
       "         [ 55,  42,  40],\n",
       "         [ 56,  43,  40]],\n",
       "\n",
       "        ...,\n",
       "\n",
       "        [[ 28,  24,  26],\n",
       "         [ 29,  25,  27],\n",
       "         [ 29,  27,  30],\n",
       "         ...,\n",
       "         [ 27,  24,  24],\n",
       "         [ 28,  25,  24],\n",
       "         [ 29,  27,  27]],\n",
       "\n",
       "        [[ 31,  28,  29],\n",
       "         [ 37,  32,  34],\n",
       "         [ 41,  35,  37],\n",
       "         ...,\n",
       "         [ 34,  31,  28],\n",
       "         [ 42,  40,  38],\n",
       "         [ 47,  45,  45]],\n",
       "\n",
       "        [[ 32,  29,  30],\n",
       "         [ 33,  28,  28],\n",
       "         [ 44,  34,  32],\n",
       "         ...,\n",
       "         [ 41,  40,  38],\n",
       "         [ 44,  43,  43],\n",
       "         [ 47,  46,  44]]],\n",
       "\n",
       "\n",
       "       ...,\n",
       "\n",
       "\n",
       "       [[[ 24,  27,  34],\n",
       "         [ 23,  25,  32],\n",
       "         [ 24,  25,  32],\n",
       "         ...,\n",
       "         [ 26,  27,  33],\n",
       "         [ 26,  27,  34],\n",
       "         [ 26,  27,  34]],\n",
       "\n",
       "        [[ 25,  26,  33],\n",
       "         [ 25,  26,  34],\n",
       "         [ 25,  26,  33],\n",
       "         ...,\n",
       "         [ 26,  27,  34],\n",
       "         [ 27,  27,  35],\n",
       "         [ 28,  28,  36]],\n",
       "\n",
       "        [[ 26,  26,  32],\n",
       "         [ 25,  25,  32],\n",
       "         [ 25,  25,  31],\n",
       "         ...,\n",
       "         [ 26,  27,  33],\n",
       "         [ 27,  27,  33],\n",
       "         [ 27,  26,  34]],\n",
       "\n",
       "        ...,\n",
       "\n",
       "        [[ 16,  17,  21],\n",
       "         [ 15,  16,  21],\n",
       "         [ 14,  16,  21],\n",
       "         ...,\n",
       "         [ 19,  21,  30],\n",
       "         [ 20,  22,  32],\n",
       "         [ 19,  21,  30]],\n",
       "\n",
       "        [[ 16,  17,  22],\n",
       "         [ 15,  16,  21],\n",
       "         [ 14,  16,  21],\n",
       "         ...,\n",
       "         [ 19,  21,  30],\n",
       "         [ 20,  22,  32],\n",
       "         [ 19,  22,  32]],\n",
       "\n",
       "        [[ 15,  16,  21],\n",
       "         [ 15,  16,  21],\n",
       "         [ 14,  16,  21],\n",
       "         ...,\n",
       "         [ 18,  21,  30],\n",
       "         [ 19,  22,  32],\n",
       "         [ 18,  22,  31]]],\n",
       "\n",
       "\n",
       "       [[[ 47,  58,  73],\n",
       "         [ 49,  53,  67],\n",
       "         [ 59,  57,  63],\n",
       "         ...,\n",
       "         [ 39,  36,  44],\n",
       "         [ 12,  10,  12],\n",
       "         [ 10,   9,  12]],\n",
       "\n",
       "        [[ 61,  68,  84],\n",
       "         [ 61,  58,  72],\n",
       "         [ 60,  57,  67],\n",
       "         ...,\n",
       "         [ 26,  23,  31],\n",
       "         [ 12,  10,   8],\n",
       "         [ 11,   9,  11]],\n",
       "\n",
       "        [[ 66,  75,  93],\n",
       "         [ 72,  79,  99],\n",
       "         [ 67,  73,  94],\n",
       "         ...,\n",
       "         [ 36,  36,  38],\n",
       "         [ 25,  21,  14],\n",
       "         [ 13,   9,  10]],\n",
       "\n",
       "        ...,\n",
       "\n",
       "        [[ 16,  16,  19],\n",
       "         [ 15,  15,  18],\n",
       "         [ 14,  13,  17],\n",
       "         ...,\n",
       "         [ 32,  31,  37],\n",
       "         [ 36,  37,  44],\n",
       "         [ 24,  24,  23]],\n",
       "\n",
       "        [[ 13,  12,  15],\n",
       "         [ 13,  12,  14],\n",
       "         [ 12,  11,  13],\n",
       "         ...,\n",
       "         [ 26,  28,  33],\n",
       "         [ 32,  35,  39],\n",
       "         [ 28,  27,  24]],\n",
       "\n",
       "        [[ 12,  11,  14],\n",
       "         [ 12,  11,  14],\n",
       "         [ 12,  10,  12],\n",
       "         ...,\n",
       "         [ 28,  32,  40],\n",
       "         [ 36,  37,  40],\n",
       "         [ 29,  27,  22]]],\n",
       "\n",
       "\n",
       "       [[[ 10,  10,  13],\n",
       "         [ 10,  10,  13],\n",
       "         [ 10,   9,  12],\n",
       "         ...,\n",
       "         [ 13,  12,  15],\n",
       "         [ 13,  12,  15],\n",
       "         [ 13,  12,  16]],\n",
       "\n",
       "        [[ 12,  11,  14],\n",
       "         [  9,   9,  12],\n",
       "         [  9,   9,  12],\n",
       "         ...,\n",
       "         [ 13,  12,  14],\n",
       "         [ 13,  12,  15],\n",
       "         [ 13,  12,  16]],\n",
       "\n",
       "        [[ 11,   9,  11],\n",
       "         [  9,   8,  11],\n",
       "         [  9,   9,  12],\n",
       "         ...,\n",
       "         [ 13,  12,  14],\n",
       "         [ 13,  12,  15],\n",
       "         [ 13,  12,  16]],\n",
       "\n",
       "        ...,\n",
       "\n",
       "        [[ 11,   9,  13],\n",
       "         [ 10,   9,  12],\n",
       "         [ 11,  10,  13],\n",
       "         ...,\n",
       "         [ 11,  10,  13],\n",
       "         [ 10,   9,  12],\n",
       "         [ 12,  11,  14]],\n",
       "\n",
       "        [[ 11,  10,  14],\n",
       "         [ 11,  10,  14],\n",
       "         [ 11,  10,  14],\n",
       "         ...,\n",
       "         [  9,   9,  12],\n",
       "         [  9,   9,  11],\n",
       "         [ 12,  11,  13]],\n",
       "\n",
       "        [[ 10,  10,  13],\n",
       "         [ 10,   9,  12],\n",
       "         [ 11,   9,  12],\n",
       "         ...,\n",
       "         [ 10,  10,  13],\n",
       "         [  9,  10,  12],\n",
       "         [ 11,  11,  13]]]], dtype=uint8)"
      ]
     },
     "execution_count": 51,
     "metadata": {},
     "output_type": "execute_result"
    }
   ],
   "source": [
    "X_test"
   ]
  },
  {
   "cell_type": "code",
   "execution_count": 52,
   "metadata": {},
   "outputs": [
    {
     "data": {
      "text/plain": [
       "(12630, 32, 32, 3)"
      ]
     },
     "execution_count": 52,
     "metadata": {},
     "output_type": "execute_result"
    }
   ],
   "source": [
    "X_test.shape"
   ]
  },
  {
   "cell_type": "code",
   "execution_count": 53,
   "metadata": {},
   "outputs": [
    {
     "data": {
      "text/plain": [
       "array([16,  1, 38, ...,  6,  7, 10], dtype=uint8)"
      ]
     },
     "execution_count": 53,
     "metadata": {},
     "output_type": "execute_result"
    }
   ],
   "source": [
    "y_test"
   ]
  },
  {
   "cell_type": "code",
   "execution_count": 54,
   "metadata": {},
   "outputs": [
    {
     "data": {
      "text/plain": [
       "(12630,)"
      ]
     },
     "execution_count": 54,
     "metadata": {},
     "output_type": "execute_result"
    }
   ],
   "source": [
    "y_test.shape"
   ]
  },
  {
   "cell_type": "markdown",
   "metadata": {},
   "source": [
    "# STEP 3: Sample image"
   ]
  },
  {
   "cell_type": "code",
   "execution_count": 56,
   "metadata": {},
   "outputs": [
    {
     "data": {
      "text/plain": [
       "4"
      ]
     },
     "execution_count": 56,
     "metadata": {},
     "output_type": "execute_result"
    },
    {
     "data": {
      "image/png": "[encoded data removed]",
      "text/plain": [
       "<Figure size 432x288 with 1 Axes>"
      ]
     },
     "metadata": {
      "needs_background": "light"
     },
     "output_type": "display_data"
    }
   ],
   "source": [
    "i = 20000\n",
    "plt.imshow(X_train[i]) \n",
    "y_train[i]"
   ]
  },
  {
   "cell_type": "markdown",
   "metadata": {},
   "source": [
    "# STEP 4: Data Preparation"
   ]
  },
  {
   "cell_type": "code",
   "execution_count": 11,
   "metadata": {},
   "outputs": [],
   "source": [
    "# Shuffle the dataset \n",
    "from sklearn.utils import shuffle\n",
    "X_train, y_train = shuffle(X_train, y_train)"
   ]
  },
  {
   "cell_type": "code",
   "execution_count": 12,
   "metadata": {},
   "outputs": [],
   "source": [
    "X_train_gray = np.sum(X_train/3, axis=3, keepdims=True)\n",
    "X_test_gray  = np.sum(X_test/3, axis=3, keepdims=True)\n",
    "X_validation_gray  = np.sum(X_validation/3, axis=3, keepdims=True) "
   ]
  },
  {
   "cell_type": "code",
   "execution_count": 13,
   "metadata": {},
   "outputs": [],
   "source": [
    "X_train_gray_norm = (X_train_gray - 128)/128 \n",
    "X_test_gray_norm = (X_test_gray - 128)/128\n",
    "X_validation_gray_norm = (X_validation_gray - 128)/128"
   ]
  },
  {
   "cell_type": "code",
   "execution_count": 14,
   "metadata": {},
   "outputs": [
    {
     "data": {
      "text/plain": [
       "(34799, 32, 32, 1)"
      ]
     },
     "execution_count": 14,
     "metadata": {},
     "output_type": "execute_result"
    }
   ],
   "source": [
    "X_train_gray.shape"
   ]
  },
  {
   "cell_type": "code",
   "execution_count": 57,
   "metadata": {},
   "outputs": [
    {
     "data": {
      "text/plain": [
       "<matplotlib.image.AxesImage at 0x188dbb25d88>"
      ]
     },
     "execution_count": 57,
     "metadata": {},
     "output_type": "execute_result"
    },
    {
     "data": {
      "image/png": "[encoded data removed]",
      "text/plain": [
       "<Figure size 432x288 with 1 Axes>"
      ]
     },
     "metadata": {
      "needs_background": "light"
     },
     "output_type": "display_data"
    },
    {
     "data": {
      "image/png": "[encoded data removed]",
      "text/plain": [
       "<Figure size 432x288 with 1 Axes>"
      ]
     },
     "metadata": {
      "needs_background": "light"
     },
     "output_type": "display_data"
    }
   ],
   "source": [
    "i = 500\n",
    "plt.imshow(X_train_gray[i].squeeze(), cmap='gray')\n",
    "plt.figure()\n",
    "plt.imshow(X_train[i])"
   ]
  },
  {
   "cell_type": "markdown",
   "metadata": {},
   "source": [
    "# STEP 5: Build the model"
   ]
  },
  {
   "cell_type": "code",
   "execution_count": 16,
   "metadata": {},
   "outputs": [
    {
     "name": "stderr",
     "output_type": "stream",
     "text": [
      "Using TensorFlow backend.\n"
     ]
    }
   ],
   "source": [
    "from keras.models import Sequential\n",
    "from keras.layers import Conv2D, MaxPooling2D, Dense, Flatten, Dropout\n",
    "from keras.optimizers import Adam\n",
    "from keras.callbacks import TensorBoard\n",
    "from sklearn.model_selection import train_test_split"
   ]
  },
  {
   "cell_type": "code",
   "execution_count": 18,
   "metadata": {},
   "outputs": [],
   "source": [
    "cnn_model = Sequential()\n",
    "\n",
    "cnn_model.add(Conv2D(32,3, 3, input_shape = image_shape, activation='relu'))\n",
    "cnn_model.add(MaxPooling2D(pool_size = (2, 2)))\n",
    "\n",
    "cnn_model.add(Flatten())\n",
    "\n",
    "cnn_model.add(Dense(output_dim = 32, activation = 'relu'))\n",
    "cnn_model.add(Dense(output_dim = 43, activation = 'sigmoid'))"
   ]
  },
  {
   "cell_type": "code",
   "execution_count": 19,
   "metadata": {},
   "outputs": [],
   "source": [
    "cnn_model.compile(loss ='sparse_categorical_crossentropy', optimizer=Adam(lr=0.001),metrics =['accuracy'])"
   ]
  },
  {
   "cell_type": "markdown",
   "metadata": {},
   "source": [
    "# STEP 6: Train the model"
   ]
  },
  {
   "cell_type": "code",
   "execution_count": 20,
   "metadata": {},
   "outputs": [
    {
     "name": "stdout",
     "output_type": "stream",
     "text": [
      "Train on 34799 samples, validate on 4410 samples\n",
      "Epoch 1/25\n",
      "34799/34799 [==============================] - 29s 845us/step - loss: 3.3302 - accuracy: 0.0748 - val_loss: 3.2046 - val_accuracy: 0.0660\n",
      "Epoch 2/25\n",
      "34799/34799 [==============================] - 26s 748us/step - loss: 2.3677 - accuracy: 0.2424 - val_loss: 2.0764 - val_accuracy: 0.4533\n",
      "Epoch 3/25\n",
      "34799/34799 [==============================] - 25s 729us/step - loss: 1.2708 - accuracy: 0.6698 - val_loss: 1.4853 - val_accuracy: 0.6104\n",
      "Epoch 4/25\n",
      "34799/34799 [==============================] - 26s 738us/step - loss: 0.9167 - accuracy: 0.7691 - val_loss: 1.1807 - val_accuracy: 0.6864\n",
      "Epoch 5/25\n",
      "34799/34799 [==============================] - 26s 755us/step - loss: 0.7268 - accuracy: 0.8254 - val_loss: 1.0518 - val_accuracy: 0.7245\n",
      "Epoch 6/25\n",
      "34799/34799 [==============================] - 25s 723us/step - loss: 0.6103 - accuracy: 0.8550 - val_loss: 0.9846 - val_accuracy: 0.7492\n",
      "Epoch 7/25\n",
      "34799/34799 [==============================] - 26s 753us/step - loss: 0.5250 - accuracy: 0.8776 - val_loss: 0.8956 - val_accuracy: 0.7794\n",
      "Epoch 8/25\n",
      "34799/34799 [==============================] - 26s 734us/step - loss: 0.4590 - accuracy: 0.8958 - val_loss: 0.8239 - val_accuracy: 0.7939\n",
      "Epoch 9/25\n",
      "34799/34799 [==============================] - 26s 745us/step - loss: 0.4102 - accuracy: 0.9074 - val_loss: 0.8029 - val_accuracy: 0.7961\n",
      "Epoch 10/25\n",
      "34799/34799 [==============================] - 26s 737us/step - loss: 0.3700 - accuracy: 0.9171 - val_loss: 0.7547 - val_accuracy: 0.8005\n",
      "Epoch 11/25\n",
      "34799/34799 [==============================] - 25s 732us/step - loss: 0.3335 - accuracy: 0.9281 - val_loss: 0.7278 - val_accuracy: 0.8005\n",
      "Epoch 12/25\n",
      "34799/34799 [==============================] - 26s 740us/step - loss: 0.3021 - accuracy: 0.9358 - val_loss: 0.7067 - val_accuracy: 0.8143\n",
      "Epoch 13/25\n",
      "34799/34799 [==============================] - 26s 740us/step - loss: 0.2771 - accuracy: 0.9411 - val_loss: 0.6420 - val_accuracy: 0.8302\n",
      "Epoch 14/25\n",
      "34799/34799 [==============================] - 25s 728us/step - loss: 0.2497 - accuracy: 0.9481 - val_loss: 0.6249 - val_accuracy: 0.8333\n",
      "Epoch 15/25\n",
      "34799/34799 [==============================] - 26s 738us/step - loss: 0.2350 - accuracy: 0.9506 - val_loss: 0.6318 - val_accuracy: 0.8388\n",
      "Epoch 16/25\n",
      "34799/34799 [==============================] - 26s 752us/step - loss: 0.2156 - accuracy: 0.9568 - val_loss: 0.6292 - val_accuracy: 0.8327\n",
      "Epoch 17/25\n",
      "34799/34799 [==============================] - 26s 748us/step - loss: 0.2043 - accuracy: 0.9582 - val_loss: 0.6079 - val_accuracy: 0.8420\n",
      "Epoch 18/25\n",
      "34799/34799 [==============================] - 26s 758us/step - loss: 0.1927 - accuracy: 0.9607 - val_loss: 0.5841 - val_accuracy: 0.8476\n",
      "Epoch 19/25\n",
      "34799/34799 [==============================] - 26s 737us/step - loss: 0.1823 - accuracy: 0.9632 - val_loss: 0.5896 - val_accuracy: 0.8467\n",
      "Epoch 20/25\n",
      "34799/34799 [==============================] - 26s 752us/step - loss: 0.1752 - accuracy: 0.9629 - val_loss: 0.6007 - val_accuracy: 0.8431\n",
      "Epoch 21/25\n",
      "34799/34799 [==============================] - 26s 755us/step - loss: 0.1571 - accuracy: 0.9693 - val_loss: 0.5619 - val_accuracy: 0.8503\n",
      "Epoch 22/25\n",
      "34799/34799 [==============================] - 26s 733us/step - loss: 0.1480 - accuracy: 0.9713 - val_loss: 0.5702 - val_accuracy: 0.8599\n",
      "Epoch 23/25\n",
      "34799/34799 [==============================] - 26s 742us/step - loss: 0.1414 - accuracy: 0.9732 - val_loss: 0.5600 - val_accuracy: 0.8503\n",
      "Epoch 24/25\n",
      "34799/34799 [==============================] - 25s 724us/step - loss: 0.1351 - accuracy: 0.9740 - val_loss: 0.5555 - val_accuracy: 0.8646\n",
      "Epoch 25/25\n",
      "34799/34799 [==============================] - 25s 731us/step - loss: 0.1278 - accuracy: 0.9759 - val_loss: 0.5513 - val_accuracy: 0.8633\n"
     ]
    }
   ],
   "source": [
    "history = cnn_model.fit(X_train_gray_norm,\n",
    "                        y_train,\n",
    "                        batch_size=500,\n",
    "                        nb_epoch=25,\n",
    "                        verbose=1,\n",
    "                        validation_data = (X_validation_gray_norm,y_validation))"
   ]
  },
  {
   "cell_type": "markdown",
   "metadata": {},
   "source": [
    "# STEP 7: Test the model"
   ]
  },
  {
   "cell_type": "code",
   "execution_count": 59,
   "metadata": {},
   "outputs": [
    {
     "name": "stdout",
     "output_type": "stream",
     "text": [
      "12630/12630 [==============================] - 6s 458us/step\n",
      "Test Accuracy : 0.8633\n"
     ]
    }
   ],
   "source": [
    "score = cnn_model.evaluate(X_test_gray_norm, y_test, verbose= 1)\n",
    "print('Test Accuracy : {:.4f}'.format(score[1]))"
   ]
  },
  {
   "cell_type": "code",
   "execution_count": 69,
   "metadata": {},
   "outputs": [
    {
     "data": {
      "image/png": "[encoded data removed]",
      "text/plain": [
       "<Figure size 432x288 with 1 Axes>"
      ]
     },
     "metadata": {
      "needs_background": "light"
     },
     "output_type": "display_data"
    },
    {
     "data": {
      "image/png": "[encoded data removed]",
      "text/plain": [
       "<Figure size 432x288 with 1 Axes>"
      ]
     },
     "metadata": {
      "needs_background": "light"
     },
     "output_type": "display_data"
    }
   ],
   "source": [
    "accuracy = history.history['accuracy']\n",
    "val_accuracy = history.history['val_accuracy']\n",
    "loss = history.history['loss']\n",
    "val_loss = history.history['val_loss']\n",
    "\n",
    "epochs = range(len(accuracy))\n",
    "\n",
    "plt.plot(epochs, accuracy, 'rs', label='Training Accuracy')\n",
    "plt.plot(epochs, val_accuracy, 'b', label='Validation Accuracy')\n",
    "plt.title('Training and Validation accuracy')\n",
    "plt.legend()\n",
    "plt.figure()\n",
    "plt.plot(epochs, loss, 'rs', label='Training Loss')\n",
    "plt.plot(epochs, val_loss, 'b', label='Validation Loss')\n",
    "plt.title('Training and validation loss')\n",
    "plt.legend()\n",
    "plt.show()"
   ]
  },
  {
   "cell_type": "code",
   "execution_count": 24,
   "metadata": {},
   "outputs": [],
   "source": [
    "predicted_classes = cnn_model.predict_classes(X_test_gray_norm)"
   ]
  },
  {
   "cell_type": "code",
   "execution_count": 70,
   "metadata": {},
   "outputs": [
    {
     "data": {
      "text/plain": [
       "array([16,  1, 38, ...,  5,  3, 10], dtype=int64)"
      ]
     },
     "execution_count": 70,
     "metadata": {},
     "output_type": "execute_result"
    }
   ],
   "source": [
    "predicted_classes"
   ]
  },
  {
   "cell_type": "code",
   "execution_count": 47,
   "metadata": {
    "scrolled": true
   },
   "outputs": [
    {
     "data": {
      "image/png": "[encoded data removed]",
      "text/plain": [
       "<Figure size 720x720 with 14 Axes>"
      ]
     },
     "metadata": {
      "needs_background": "light"
     },
     "output_type": "display_data"
    }
   ],
   "source": [
    "plt.figure(figsize= (10, 10))\n",
    "for i in range(0,15):\n",
    "    plt.subplot(5,3,i+1)\n",
    "    plt.imshow(X_test_gray_norm[i+10].squeeze(), cmap='gray', interpolation='none')\n",
    "    plt.title(\"Predicted= {} \\n Class= {}\".format(predicted_classes[i+10], y_true[i+10]))\n",
    "    plt.tight_layout()"
   ]
  }
 ],
 "metadata": {
  "kernelspec": {
   "display_name": "Python 3",
   "language": "python",
   "name": "python3"
  },
  "language_info": {
   "codemirror_mode": {
    "name": "ipython",
    "version": 3
   },
   "file_extension": ".py",
   "mimetype": "text/x-python",
   "name": "python",
   "nbconvert_exporter": "python",
   "pygments_lexer": "ipython3",
   "version": "3.7.6"
  },
  "widgets": {
   "state": {},
   "version": "1.1.2"
  }
 },
 "nbformat": 4,
 "nbformat_minor": 2
}
